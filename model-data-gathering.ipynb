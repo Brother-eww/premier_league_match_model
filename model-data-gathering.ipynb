{
 "cells": [
  {
   "cell_type": "code",
   "execution_count": 1,
   "id": "initial_id",
   "metadata": {
    "ExecuteTime": {
     "end_time": "2024-04-16T12:57:51.813718Z",
     "start_time": "2024-04-16T12:57:51.809343Z"
    },
    "collapsed": true
   },
   "outputs": [],
   "source": [
    "import pandas as pd\n",
    "import time\n",
    "\n",
    "dates = pd.date_range(start='1/1/2017', end='5/31/2024', freq='YS')"
   ]
  },
  {
   "cell_type": "code",
   "execution_count": 2,
   "id": "4723e6ec880e2b0c",
   "metadata": {
    "ExecuteTime": {
     "end_time": "2024-04-16T13:01:44.065580Z",
     "start_time": "2024-04-16T13:01:41.977770Z"
    },
    "collapsed": false
   },
   "outputs": [
    {
     "name": "stdout",
     "output_type": "stream",
     "text": [
      "2017-2018\n",
      "2018-2019\n",
      "2019-2020\n",
      "2020-2021\n",
      "2021-2022\n",
      "2022-2023\n",
      "2023-2024\n",
      "2024-2025\n"
     ]
    }
   ],
   "source": [
    "all_dfs = []\n",
    "\n",
    "for date in dates:\n",
    "    season_start = date.year\n",
    "    season_end = date.year + 1\n",
    "    season = f'{season_start}-{season_end}'\n",
    "    print(season)\n",
    "    \n",
    "    df = pd.read_html(f'https://fbref.com/en/comps/9/{season}/schedule/{season}-Premier-League-Scores-and-Fixtures', attrs={\"id\": f\"sched_{season}_9_1\"})[0]\n",
    "    df['Season'] = season\n",
    "    all_dfs.append(df)"
   ]
  },
  {
   "cell_type": "code",
   "execution_count": 3,
   "id": "73eafbb0e47f7181",
   "metadata": {
    "ExecuteTime": {
     "end_time": "2024-04-16T13:01:50.434760Z",
     "start_time": "2024-04-16T13:01:50.431131Z"
    },
    "collapsed": false
   },
   "outputs": [],
   "source": [
    "df = pd.concat(all_dfs)"
   ]
  },
  {
   "cell_type": "code",
   "execution_count": 4,
   "id": "4f332e035293d81b",
   "metadata": {
    "ExecuteTime": {
     "end_time": "2024-04-16T13:02:46.012442Z",
     "start_time": "2024-04-16T13:02:46.007671Z"
    },
    "collapsed": false
   },
   "outputs": [],
   "source": [
    "df = df.dropna(subset=['Wk'])"
   ]
  },
  {
   "cell_type": "code",
   "execution_count": 5,
   "id": "3e3c125dc27d886b",
   "metadata": {
    "ExecuteTime": {
     "end_time": "2024-04-16T13:04:37.698784Z",
     "start_time": "2024-04-16T13:04:37.695636Z"
    },
    "collapsed": false
   },
   "outputs": [
    {
     "data": {
      "text/plain": [
       "Index(['Wk', 'Day', 'Date', 'Time', 'Home', 'xG', 'Score', 'xG.1', 'Away',\n",
       "       'Attendance', 'Venue', 'Referee', 'Match Report', 'Notes', 'Season'],\n",
       "      dtype='object')"
      ]
     },
     "execution_count": 5,
     "metadata": {},
     "output_type": "execute_result"
    }
   ],
   "source": [
    "df.columns"
   ]
  },
  {
   "cell_type": "code",
   "execution_count": 6,
   "id": "af60855da9c020da",
   "metadata": {
    "ExecuteTime": {
     "end_time": "2024-04-16T13:04:58.172846Z",
     "start_time": "2024-04-16T13:04:58.166603Z"
    },
    "collapsed": false
   },
   "outputs": [],
   "source": [
    "df.drop(columns=['Match Report', 'Notes'], inplace=True)"
   ]
  },
  {
   "cell_type": "code",
   "execution_count": 7,
   "id": "e5245d83",
   "metadata": {},
   "outputs": [
    {
     "data": {
      "text/html": [
       "<div>\n",
       "<style scoped>\n",
       "    .dataframe tbody tr th:only-of-type {\n",
       "        vertical-align: middle;\n",
       "    }\n",
       "\n",
       "    .dataframe tbody tr th {\n",
       "        vertical-align: top;\n",
       "    }\n",
       "\n",
       "    .dataframe thead th {\n",
       "        text-align: right;\n",
       "    }\n",
       "</style>\n",
       "<table border=\"1\" class=\"dataframe\">\n",
       "  <thead>\n",
       "    <tr style=\"text-align: right;\">\n",
       "      <th></th>\n",
       "      <th>Wk</th>\n",
       "      <th>Day</th>\n",
       "      <th>Date</th>\n",
       "      <th>Time</th>\n",
       "      <th>Home</th>\n",
       "      <th>xG</th>\n",
       "      <th>Score</th>\n",
       "      <th>xG.1</th>\n",
       "      <th>Away</th>\n",
       "      <th>Attendance</th>\n",
       "      <th>Venue</th>\n",
       "      <th>Referee</th>\n",
       "      <th>Season</th>\n",
       "    </tr>\n",
       "  </thead>\n",
       "  <tbody>\n",
       "    <tr>\n",
       "      <th>0</th>\n",
       "      <td>1.0</td>\n",
       "      <td>Fri</td>\n",
       "      <td>2017-08-11</td>\n",
       "      <td>19:45</td>\n",
       "      <td>Arsenal</td>\n",
       "      <td>2.5</td>\n",
       "      <td>4–3</td>\n",
       "      <td>1.5</td>\n",
       "      <td>Leicester City</td>\n",
       "      <td>59387.0</td>\n",
       "      <td>Emirates Stadium</td>\n",
       "      <td>Mike Dean</td>\n",
       "      <td>2017-2018</td>\n",
       "    </tr>\n",
       "    <tr>\n",
       "      <th>1</th>\n",
       "      <td>1.0</td>\n",
       "      <td>Sat</td>\n",
       "      <td>2017-08-12</td>\n",
       "      <td>12:30</td>\n",
       "      <td>Watford</td>\n",
       "      <td>2.1</td>\n",
       "      <td>3–3</td>\n",
       "      <td>2.6</td>\n",
       "      <td>Liverpool</td>\n",
       "      <td>20407.0</td>\n",
       "      <td>Vicarage Road Stadium</td>\n",
       "      <td>Anthony Taylor</td>\n",
       "      <td>2017-2018</td>\n",
       "    </tr>\n",
       "    <tr>\n",
       "      <th>2</th>\n",
       "      <td>1.0</td>\n",
       "      <td>Sat</td>\n",
       "      <td>2017-08-12</td>\n",
       "      <td>15:00</td>\n",
       "      <td>Crystal Palace</td>\n",
       "      <td>1.1</td>\n",
       "      <td>0–3</td>\n",
       "      <td>1.5</td>\n",
       "      <td>Huddersfield</td>\n",
       "      <td>25448.0</td>\n",
       "      <td>Selhurst Park</td>\n",
       "      <td>Jonathan Moss</td>\n",
       "      <td>2017-2018</td>\n",
       "    </tr>\n",
       "    <tr>\n",
       "      <th>3</th>\n",
       "      <td>1.0</td>\n",
       "      <td>Sat</td>\n",
       "      <td>2017-08-12</td>\n",
       "      <td>15:00</td>\n",
       "      <td>West Brom</td>\n",
       "      <td>1.3</td>\n",
       "      <td>1–0</td>\n",
       "      <td>0.5</td>\n",
       "      <td>Bournemouth</td>\n",
       "      <td>25011.0</td>\n",
       "      <td>The Hawthorns</td>\n",
       "      <td>Robert Madley</td>\n",
       "      <td>2017-2018</td>\n",
       "    </tr>\n",
       "    <tr>\n",
       "      <th>4</th>\n",
       "      <td>1.0</td>\n",
       "      <td>Sat</td>\n",
       "      <td>2017-08-12</td>\n",
       "      <td>15:00</td>\n",
       "      <td>Chelsea</td>\n",
       "      <td>1.5</td>\n",
       "      <td>2–3</td>\n",
       "      <td>0.6</td>\n",
       "      <td>Burnley</td>\n",
       "      <td>41616.0</td>\n",
       "      <td>Stamford Bridge</td>\n",
       "      <td>Craig Pawson</td>\n",
       "      <td>2017-2018</td>\n",
       "    </tr>\n",
       "    <tr>\n",
       "      <th>...</th>\n",
       "      <td>...</td>\n",
       "      <td>...</td>\n",
       "      <td>...</td>\n",
       "      <td>...</td>\n",
       "      <td>...</td>\n",
       "      <td>...</td>\n",
       "      <td>...</td>\n",
       "      <td>...</td>\n",
       "      <td>...</td>\n",
       "      <td>...</td>\n",
       "      <td>...</td>\n",
       "      <td>...</td>\n",
       "      <td>...</td>\n",
       "    </tr>\n",
       "    <tr>\n",
       "      <th>412</th>\n",
       "      <td>38.0</td>\n",
       "      <td>Sun</td>\n",
       "      <td>2025-05-25</td>\n",
       "      <td>16:00</td>\n",
       "      <td>Fulham</td>\n",
       "      <td>NaN</td>\n",
       "      <td>NaN</td>\n",
       "      <td>NaN</td>\n",
       "      <td>Manchester City</td>\n",
       "      <td>NaN</td>\n",
       "      <td>Craven Cottage</td>\n",
       "      <td>NaN</td>\n",
       "      <td>2024-2025</td>\n",
       "    </tr>\n",
       "    <tr>\n",
       "      <th>413</th>\n",
       "      <td>38.0</td>\n",
       "      <td>Sun</td>\n",
       "      <td>2025-05-25</td>\n",
       "      <td>16:00</td>\n",
       "      <td>Nott'ham Forest</td>\n",
       "      <td>NaN</td>\n",
       "      <td>NaN</td>\n",
       "      <td>NaN</td>\n",
       "      <td>Chelsea</td>\n",
       "      <td>NaN</td>\n",
       "      <td>The City Ground</td>\n",
       "      <td>NaN</td>\n",
       "      <td>2024-2025</td>\n",
       "    </tr>\n",
       "    <tr>\n",
       "      <th>414</th>\n",
       "      <td>38.0</td>\n",
       "      <td>Sun</td>\n",
       "      <td>2025-05-25</td>\n",
       "      <td>16:00</td>\n",
       "      <td>Manchester Utd</td>\n",
       "      <td>NaN</td>\n",
       "      <td>NaN</td>\n",
       "      <td>NaN</td>\n",
       "      <td>Aston Villa</td>\n",
       "      <td>NaN</td>\n",
       "      <td>Old Trafford</td>\n",
       "      <td>NaN</td>\n",
       "      <td>2024-2025</td>\n",
       "    </tr>\n",
       "    <tr>\n",
       "      <th>415</th>\n",
       "      <td>38.0</td>\n",
       "      <td>Sun</td>\n",
       "      <td>2025-05-25</td>\n",
       "      <td>16:00</td>\n",
       "      <td>Wolves</td>\n",
       "      <td>NaN</td>\n",
       "      <td>NaN</td>\n",
       "      <td>NaN</td>\n",
       "      <td>Brentford</td>\n",
       "      <td>NaN</td>\n",
       "      <td>Molineux Stadium</td>\n",
       "      <td>NaN</td>\n",
       "      <td>2024-2025</td>\n",
       "    </tr>\n",
       "    <tr>\n",
       "      <th>416</th>\n",
       "      <td>38.0</td>\n",
       "      <td>Sun</td>\n",
       "      <td>2025-05-25</td>\n",
       "      <td>16:00</td>\n",
       "      <td>Tottenham</td>\n",
       "      <td>NaN</td>\n",
       "      <td>NaN</td>\n",
       "      <td>NaN</td>\n",
       "      <td>Brighton</td>\n",
       "      <td>NaN</td>\n",
       "      <td>Tottenham Hotspur Stadium</td>\n",
       "      <td>NaN</td>\n",
       "      <td>2024-2025</td>\n",
       "    </tr>\n",
       "  </tbody>\n",
       "</table>\n",
       "<p>3040 rows × 13 columns</p>\n",
       "</div>"
      ],
      "text/plain": [
       "       Wk  Day        Date   Time             Home   xG Score  xG.1  \\\n",
       "0     1.0  Fri  2017-08-11  19:45          Arsenal  2.5   4–3   1.5   \n",
       "1     1.0  Sat  2017-08-12  12:30          Watford  2.1   3–3   2.6   \n",
       "2     1.0  Sat  2017-08-12  15:00   Crystal Palace  1.1   0–3   1.5   \n",
       "3     1.0  Sat  2017-08-12  15:00        West Brom  1.3   1–0   0.5   \n",
       "4     1.0  Sat  2017-08-12  15:00          Chelsea  1.5   2–3   0.6   \n",
       "..    ...  ...         ...    ...              ...  ...   ...   ...   \n",
       "412  38.0  Sun  2025-05-25  16:00           Fulham  NaN   NaN   NaN   \n",
       "413  38.0  Sun  2025-05-25  16:00  Nott'ham Forest  NaN   NaN   NaN   \n",
       "414  38.0  Sun  2025-05-25  16:00   Manchester Utd  NaN   NaN   NaN   \n",
       "415  38.0  Sun  2025-05-25  16:00           Wolves  NaN   NaN   NaN   \n",
       "416  38.0  Sun  2025-05-25  16:00        Tottenham  NaN   NaN   NaN   \n",
       "\n",
       "                Away  Attendance                      Venue         Referee  \\\n",
       "0     Leicester City     59387.0           Emirates Stadium       Mike Dean   \n",
       "1          Liverpool     20407.0      Vicarage Road Stadium  Anthony Taylor   \n",
       "2       Huddersfield     25448.0              Selhurst Park   Jonathan Moss   \n",
       "3        Bournemouth     25011.0              The Hawthorns   Robert Madley   \n",
       "4            Burnley     41616.0            Stamford Bridge    Craig Pawson   \n",
       "..               ...         ...                        ...             ...   \n",
       "412  Manchester City         NaN             Craven Cottage             NaN   \n",
       "413          Chelsea         NaN            The City Ground             NaN   \n",
       "414      Aston Villa         NaN               Old Trafford             NaN   \n",
       "415        Brentford         NaN           Molineux Stadium             NaN   \n",
       "416         Brighton         NaN  Tottenham Hotspur Stadium             NaN   \n",
       "\n",
       "        Season  \n",
       "0    2017-2018  \n",
       "1    2017-2018  \n",
       "2    2017-2018  \n",
       "3    2017-2018  \n",
       "4    2017-2018  \n",
       "..         ...  \n",
       "412  2024-2025  \n",
       "413  2024-2025  \n",
       "414  2024-2025  \n",
       "415  2024-2025  \n",
       "416  2024-2025  \n",
       "\n",
       "[3040 rows x 13 columns]"
      ]
     },
     "execution_count": 7,
     "metadata": {},
     "output_type": "execute_result"
    }
   ],
   "source": [
    "df"
   ]
  },
  {
   "cell_type": "code",
   "execution_count": 8,
   "id": "20ed65bcea8550de",
   "metadata": {
    "ExecuteTime": {
     "end_time": "2024-04-16T13:05:38.821055Z",
     "start_time": "2024-04-16T13:05:38.797099Z"
    },
    "collapsed": false
   },
   "outputs": [],
   "source": [
    "df.to_csv('data/new_data', index=False)"
   ]
  }
 ],
 "metadata": {
  "kernelspec": {
   "display_name": "Python 3",
   "language": "python",
   "name": "python3"
  },
  "language_info": {
   "codemirror_mode": {
    "name": "ipython",
    "version": 3
   },
   "file_extension": ".py",
   "mimetype": "text/x-python",
   "name": "python",
   "nbconvert_exporter": "python",
   "pygments_lexer": "ipython3",
   "version": "3.9.6"
  }
 },
 "nbformat": 4,
 "nbformat_minor": 5
}
