{
 "cells": [
  {
   "cell_type": "code",
   "execution_count": null,
   "metadata": {},
   "outputs": [],
   "source": [
    "import pandas as pd\n",
    "import numpy as np\n",
    "import os\n",
    "import joblib\n",
    "from sklearn.ensemble import RandomForestClassifier\n",
    "from sklearn.multioutput import MultiOutputClassifier\n",
    "from sklearn.metrics import accuracy_score, confusion_matrix, classification_report"
   ]
  },
  {
   "cell_type": "code",
   "execution_count": null,
   "metadata": {},
   "outputs": [],
   "source": [
    "def load_modelanddata(modelfile, datafile):\n",
    "    # load in model\n",
    "    model = joblib.load(modelfile)\n",
    "    df = pd.read_csv(datafile)\n",
    "    return model, df"
   ]
  },
  {
   "cell_type": "code",
   "execution_count": null,
   "metadata": {},
   "outputs": [],
   "source": [
    "def get_played_matches(df):\n",
    "\n",
    "    current_day = pd.to_datetime('today').date()\n",
    "\n",
    "    # convert 'Date' column to datetime\n",
    "    df['Date'] = pd.to_datetime(df['Date']).dt.date\n",
    "\n",
    "    # create a df to store our latest data on teams playing before the next round of games\n",
    "    df = df[df['Date'] < current_day]\n",
    "    return df"
   ]
  },
  {
   "cell_type": "code",
   "execution_count": null,
   "metadata": {},
   "outputs": [],
   "source": [
    "def fill_column(df,column,fillvalue):\n",
    "    df = df[column].fillna(fillvalue)\n",
    "\n",
    "    return df"
   ]
  },
  {
   "cell_type": "code",
   "execution_count": null,
   "metadata": {},
   "outputs": [],
   "source": [
    "def castdata(df,column,dtype):\n",
    "    df[column] = df[column].astype(dtype)\n",
    "    return df"
   ]
  },
  {
   "cell_type": "code",
   "execution_count": null,
   "metadata": {},
   "outputs": [],
   "source": [
    "def split_column(df,spliton,newcolumns,column):\n",
    "    df[newcolumns] = df[column].str.split(spliton, expand=True)\n",
    "    return df"
   ]
  },
  {
   "cell_type": "code",
   "execution_count": null,
   "metadata": {},
   "outputs": [],
   "source": [
    "def define_results(df):\n",
    "    for row in df.itterrows:\n",
    "        if row['home_goals'] > row['away_goals']:\n",
    "            row['result'] =  'Home Win'\n",
    "        elif row['home_goals'] < row['away_goals']:\n",
    "            row['result'] =  'Away Win'\n",
    "        else:\n",
    "            row['result'] =  'Draw'\n",
    "        return df"
   ]
  },
  {
   "cell_type": "code",
   "execution_count": null,
   "metadata": {},
   "outputs": [],
   "source": [
    "model_df['Day'] = pd.to_datetime(model_df['Date']).dt.day_name()\n",
    "\n",
    "model_df['Season'] = model_df['Season'].apply(lambda x: x.split('-')[1])"
   ]
  },
  {
   "cell_type": "code",
   "execution_count": null,
   "metadata": {},
   "outputs": [],
   "source": [
    "model_df = pd.get_dummies(model_df, columns=['Day'])\n",
    "\n",
    "model_df.reset_index(drop=True, inplace=True)"
   ]
  },
  {
   "cell_type": "code",
   "execution_count": null,
   "metadata": {},
   "outputs": [],
   "source": [
    "for x in model_df.Home.unique():\n",
    "    temp_df = model_df[(model_df['Home'] == x) | (model_df['Away'] == x)]\n",
    "    temp_df = temp_df.sort_values(['Date'])\n",
    "\n",
    "    temp_df['goal_value_to_calculate'] = temp_df.apply(lambda y: y['home_goals'] if y['Home'] == x else y['away_goals'], axis=1)\n",
    "    temp_df['rolling_avg_goals'] = temp_df['goal_value_to_calculate'].rolling(window = 5, closed = 'left', min_periods = 1).mean()\n",
    "\n",
    "    for index, row in temp_df.iterrows():\n",
    "        if row['Home'] == x:\n",
    "            model_df.at[index, 'home_rolling_avg_goals'] = row['rolling_avg_goals']\n",
    "        else:\n",
    "            model_df.at[index, 'away_rolling_avg_goals'] = row['rolling_avg_goals']"
   ]
  },
  {
   "cell_type": "code",
   "execution_count": null,
   "metadata": {},
   "outputs": [],
   "source": [
    "for x in model_df.Home.unique():\n",
    "    temp_df = model_df[(model_df['Home'] == x) | (model_df['Away'] == x)]\n",
    "    temp_df = temp_df.sort_values(['Date'])\n",
    "\n",
    "    temp_df['xg_value_to_calculate'] = temp_df.apply(lambda y: y['home_xg'] if y['Home'] == x else y['away_xg'], axis=1)\n",
    "    temp_df['rolling_avg_xG'] = temp_df['xg_value_to_calculate'].rolling(window = 5, closed = 'left', min_periods = 1).mean()\n",
    "\n",
    "    for index, row in temp_df.iterrows():\n",
    "        if row['Home'] == x:\n",
    "            model_df.at[index, 'home_rolling_avg_xG'] = row['rolling_avg_xG']\n",
    "        else:\n",
    "            model_df.at[index, 'away_rolling_avg_xG'] = row['rolling_avg_xG']"
   ]
  },
  {
   "cell_type": "code",
   "execution_count": null,
   "metadata": {},
   "outputs": [],
   "source": [
    "model_df = model_df.dropna(subset=['home_rolling_avg_goals', 'away_rolling_avg_goals', 'home_rolling_avg_xG', 'away_rolling_avg_xG'])"
   ]
  },
  {
   "cell_type": "code",
   "execution_count": null,
   "metadata": {},
   "outputs": [],
   "source": [
    "# create a new column for the central moving average of the home goals\n",
    "model_df['home_goals_cma'] = model_df['home_goals'].expanding().mean()\n",
    "model_df['home_xg_cma'] = model_df['home_xg'].expanding().mean()\n",
    "\n",
    "# away goals\n",
    "model_df['away_goals_cma'] = model_df['away_goals'].expanding().mean()\n",
    "model_df['away_xg_cma'] = model_df['away_xg'].expanding().mean()\n",
    "\n",
    "# create a new column by dividing the home goals by central moving average\n",
    "model_df['home_goals_div_cma'] = model_df['home_goals'] / model_df['home_goals_cma']\n",
    "model_df['home_xg_div_cma'] = model_df['home_xg'] / model_df['home_xg_cma']\n",
    "\n",
    "# away goals\n",
    "model_df['away_goals_div_cma'] = model_df['away_goals'] / model_df['away_goals_cma']\n",
    "model_df['away_xg_div_cma'] = model_df['away_xg'] / model_df['away_xg_cma']"
   ]
  },
  {
   "cell_type": "code",
   "execution_count": null,
   "metadata": {},
   "outputs": [],
   "source": [
    "# set Wk column to integer\n",
    "model_df['Wk'] = model_df['Wk'].astype(int)\n",
    "\n",
    "# create a new column called quarter. divide the season into 4 quarters using the Wk column and assign a value between 1 and 4\n",
    "model_df['quarter'] = np.where(model_df['Wk'].astype(int) <= 9, 1,\n",
    "                np.where(model_df['Wk'].astype(int) <= 18, 2,\n",
    "                np.where(model_df['Wk'].astype(int) <= 27, 3, 4)))\n",
    "\n",
    "# using home_goals_div_cma, take the mean of the column for each quarter. put into new column called home_goals_seasonality\n",
    "model_df['home_goals_seasonality'] = model_df.groupby('quarter')['home_goals_div_cma'].transform('mean')\n",
    "model_df['home_xg_seasonality'] = model_df.groupby('quarter')['home_xg_div_cma'].transform('mean')\n",
    "\n",
    "# away goals\n",
    "model_df['away_goals_seasonality'] = model_df.groupby('quarter')['away_goals_div_cma'].transform('mean')\n",
    "model_df['away_xg_seasonality'] = model_df.groupby('quarter')['away_xg_div_cma'].transform('mean')\n",
    "\n",
    "# create a new column called home_goals_deseasonalised by dividing home_goals by home_goals_seasonality\n",
    "model_df['home_goals_deseasonalised'] = model_df['home_goals'] / model_df['home_goals_seasonality']\n",
    "model_df['home_xg_deseasonalised'] = model_df['home_xg'] / model_df['home_xg_seasonality']\n",
    "\n",
    "# away goals\n",
    "model_df['away_goals_deseasonalised'] = model_df['away_goals'] / model_df['away_goals_seasonality']\n",
    "model_df['away_xg_deseasonalised'] = model_df['away_xg'] / model_df['away_xg_seasonality']"
   ]
  },
  {
   "cell_type": "code",
   "execution_count": null,
   "metadata": {},
   "outputs": [],
   "source": [
    "model_df['Season'] = model_df['Season'].astype(int)\n",
    "# set home goals and away goals to integer\n",
    "model_df['home_goals'] = model_df['home_goals'].astype(int)\n",
    "model_df['away_goals'] = model_df['away_goals'].astype(int)"
   ]
  },
  {
   "cell_type": "code",
   "execution_count": null,
   "metadata": {},
   "outputs": [],
   "source": [
    "# Ensure 'Result' is categorical or integer-based\n",
    "model_df['Result'] = model_df['Result'].astype('category')  # or use int depending on your encoding\n",
    "\n",
    "# Ensure 'home_goals' and 'away_goals' are integers\n",
    "model_df['home_goals'] = pd.to_numeric(model_df['home_goals'], errors='coerce').fillna(0).astype(int)\n",
    "model_df['away_goals'] = pd.to_numeric(model_df['away_goals'], errors='coerce').fillna(0).astype(int)"
   ]
  },
  {
   "cell_type": "code",
   "execution_count": null,
   "metadata": {},
   "outputs": [],
   "source": [
    "model_df = pd.get_dummies(model_df, columns=['Home', 'Away', 'Venue'])"
   ]
  },
  {
   "cell_type": "code",
   "execution_count": null,
   "metadata": {},
   "outputs": [],
   "source": [
    "features = [column for column in model_df.drop(columns=[\n",
    "    'Date', 'Time', 'home_xg', 'away_xg', 'home_goals', 'Score', 'Referee', 'Attendance',\n",
    "    'away_goals', 'Result', 'Season', 'quarter', 'home_goals_cma', 'home_xg_cma', \n",
    "    'away_goals_cma', 'away_xg_cma', 'home_goals_div_cma', 'home_xg_div_cma', \n",
    "    'away_goals_div_cma', 'away_xg_div_cma'])]"
   ]
  },
  {
   "cell_type": "code",
   "execution_count": null,
   "metadata": {},
   "outputs": [],
   "source": [
    "# create a new dataframe with the teams and the features\n",
    "\n",
    "teams = df['Home'].unique()\n",
    "\n",
    "teams_df = pd.DataFrame(teams, columns=['Team'])\n",
    "\n",
    "# assign the latest 'home_rolling_avg_goals', 'away_rolling_avg_goals' etc. to the teams_df\n",
    "for team in teams:\n",
    "    home_rolling_avg_goals = model_df[model_df['Home_' + team] == 1]['home_rolling_avg_goals'].iloc[-1]\n",
    "    away_rolling_avg_goals = model_df[model_df['Away_' + team] == 1]['away_rolling_avg_goals'].iloc[-1]\n",
    "    home_rolling_avg_xG = model_df[model_df['Home_' + team] == 1]['home_rolling_avg_xG'].iloc[-1]\n",
    "    away_rolling_avg_xG = model_df[model_df['Away_' + team] == 1]['away_rolling_avg_xG'].iloc[-1]\n",
    "    home_goals_seasonality = model_df[model_df['Home_' + team] == 1]['home_goals_seasonality'].iloc[-1]\n",
    "    home_xg_seasonality = model_df[model_df['Home_' + team] == 1]['home_xg_seasonality'].iloc[-1]\n",
    "    away_goals_seasonality = model_df[model_df['Away_' + team] == 1]['away_goals_seasonality'].iloc[-1]\n",
    "    away_xg_seasonality = model_df[model_df['Away_' + team] == 1]['away_xg_seasonality'].iloc[-1]\n",
    "    home_goals_deseasonalised = model_df[model_df['Home_' + team] == 1]['home_goals_deseasonalised'].iloc[-1]\n",
    "    home_xg_deseasonalised = model_df[model_df['Home_' + team] == 1]['home_xg_deseasonalised'].iloc[-1]\n",
    "    away_goals_deseasonalised = model_df[model_df['Away_' + team] == 1]['away_goals_deseasonalised'].iloc[-1]\n",
    "    away_xg_deseasonalised = model_df[model_df['Away_' + team] == 1]['away_xg_deseasonalised'].iloc[-1]\n",
    "\n",
    "    teams_df.loc[teams_df['Team'] == team, 'home_rolling_avg_goals'] = home_rolling_avg_goals\n",
    "    teams_df.loc[teams_df['Team'] == team, 'away_rolling_avg_goals'] = away_rolling_avg_goals\n",
    "    teams_df.loc[teams_df['Team'] == team, 'home_rolling_avg_xG'] = home_rolling_avg_xG\n",
    "    teams_df.loc[teams_df['Team'] == team, 'away_rolling_avg_xG'] = away_rolling_avg_xG\n",
    "    teams_df.loc[teams_df['Team'] == team, 'home_goals_seasonality'] = home_goals_seasonality\n",
    "    teams_df.loc[teams_df['Team'] == team, 'home_xg_seasonality'] = home_xg_seasonality\n",
    "    teams_df.loc[teams_df['Team'] == team, 'away_goals_seasonality'] = away_goals_seasonality\n",
    "    teams_df.loc[teams_df['Team'] == team, 'away_xg_seasonality'] = away_xg_seasonality\n",
    "    teams_df.loc[teams_df['Team'] == team, 'home_goals_deseasonalised'] = home_goals_deseasonalised\n",
    "    teams_df.loc[teams_df['Team'] == team, 'home_xg_deseasonalised'] = home_xg_deseasonalised\n",
    "    teams_df.loc[teams_df['Team'] == team, 'away_goals_deseasonalised'] = away_goals_deseasonalised\n",
    "    teams_df.loc[teams_df['Team'] == team, 'away_xg_deseasonalised'] = away_xg_deseasonalised\n",
    "\n",
    "\n",
    "# create a copy of original df and filter for games this weekend\n",
    "weekend_df = df.copy()\n",
    "\n",
    "# filter for Wk 9, season 2024-2025\n",
    "weekend_df = weekend_df[(weekend_df['Wk'] == 9) & (weekend_df['Season'] == '2024-2025')]\n",
    "\n",
    "# drop columns with null values\n",
    "weekend_df = weekend_df.drop(columns=['xG', 'xG.1', 'Attendance', 'Referee', 'Score'])\n",
    "\n",
    "\n",
    "# using Home and Away columns, assign the rolling averages and seasonality values to the weekend_df\n",
    "for index, row in weekend_df.iterrows():\n",
    "    home_team = row['Home']\n",
    "    away_team = row['Away']\n",
    "\n",
    "    home_rolling_avg_goals = teams_df[teams_df['Team'] == home_team]['home_rolling_avg_goals'].iloc[0]\n",
    "    away_rolling_avg_goals = teams_df[teams_df['Team'] == away_team]['away_rolling_avg_goals'].iloc[0]\n",
    "    home_rolling_avg_xG = teams_df[teams_df['Team'] == home_team]['home_rolling_avg_xG'].iloc[0]\n",
    "    away_rolling_avg_xG = teams_df[teams_df['Team'] == away_team]['away_rolling_avg_xG'].iloc[0]\n",
    "    home_goals_seasonality = teams_df[teams_df['Team'] == home_team]['home_goals_seasonality'].iloc[0]\n",
    "    home_xg_seasonality = teams_df[teams_df['Team'] == home_team]['home_xg_seasonality'].iloc[0]\n",
    "    away_goals_seasonality = teams_df[teams_df['Team'] == away_team]['away_goals_seasonality'].iloc[0]\n",
    "    away_xg_seasonality = teams_df[teams_df['Team'] == away_team]['away_xg_seasonality'].iloc[0]\n",
    "    home_goals_deseasonalised = teams_df[teams_df['Team'] == home_team]['home_goals_deseasonalised'].iloc[0]\n",
    "    home_xg_deseasonalised = teams_df[teams_df['Team'] == home_team]['home_xg_deseasonalised'].iloc[0]\n",
    "    away_goals_deseasonalised = teams_df[teams_df['Team'] == away_team]['away_goals_deseasonalised'].iloc[0]\n",
    "    away_xg_deseasonalised = teams_df[teams_df['Team'] == away_team]['away_xg_deseasonalised'].iloc[0]\n",
    "\n",
    "    weekend_df.at[index, 'home_rolling_avg_goals'] = home_rolling_avg_goals\n",
    "    weekend_df.at[index, 'away_rolling_avg_goals'] = away_rolling_avg_goals\n",
    "    weekend_df.at[index, 'home_rolling_avg_xG'] = home_rolling_avg_xG\n",
    "    weekend_df.at[index, 'away_rolling_avg_xG'] = away_rolling_avg_xG\n",
    "    weekend_df.at[index, 'home_goals_seasonality'] = home_goals_seasonality\n",
    "    weekend_df.at[index, 'home_xg_seasonality'] = home_xg_seasonality\n",
    "\n",
    "    weekend_df.at[index, 'away_goals_seasonality'] = away_goals_seasonality\n",
    "    weekend_df.at[index, 'away_xg_seasonality'] = away_xg_seasonality\n",
    "    weekend_df.at[index, 'home_goals_deseasonalised'] = home_goals_deseasonalised\n",
    "    weekend_df.at[index, 'home_xg_deseasonalised'] = home_xg_deseasonalised\n",
    "    weekend_df.at[index, 'away_goals_deseasonalised'] = away_goals_deseasonalised\n",
    "    weekend_df.at[index, 'away_xg_deseasonalised'] = away_xg_deseasonalised\n",
    "\n",
    "\n",
    "display(weekend_df)"
   ]
  },
  {
   "cell_type": "code",
   "execution_count": null,
   "metadata": {},
   "outputs": [],
   "source": [
    "weekend_df['Day'] = pd.to_datetime(weekend_df['Date']).dt.day_name()\n",
    "\n",
    "# store weekend_df in new variable for final results\n",
    "\n",
    "results_df = weekend_df.loc[:, ['Date', 'Home', 'Away', 'Day', 'Venue']]\n",
    "\n",
    "# Ensure 'weekend_df' has the same structure as 'model_df'\n",
    "weekend_df = pd.get_dummies(weekend_df, columns=['Home', 'Away', 'Day','Venue'], drop_first=False)\n",
    "\n",
    "# Add missing columns with default values\n",
    "for column in model_df.columns:\n",
    "    if column not in weekend_df.columns:\n",
    "        if model_df[column].dtype == 'bool':\n",
    "            weekend_df[column] = False\n",
    "        elif model_df[column].dtype == 'float64':\n",
    "            weekend_df[column] = 0.0\n",
    "        elif model_df[column].dtype == 'int64':\n",
    "            weekend_df[column] = 0\n",
    "        else:\n",
    "            weekend_df[column] = None\n",
    "\n",
    "# Ensure the order of columns matches\n",
    "weekend_df = weekend_df[model_df.columns]"
   ]
  },
  {
   "cell_type": "code",
   "execution_count": null,
   "metadata": {},
   "outputs": [],
   "source": [
    "features = [column for column in weekend_df.drop(columns=[\n",
    "    'Date', 'Time', 'home_xg', 'away_xg', 'home_goals', 'Score', 'Attendance', 'Referee',\n",
    "    'away_goals', 'Result', 'Season', 'quarter', 'home_goals_cma', 'home_xg_cma', \n",
    "    'away_goals_cma', 'away_xg_cma', 'home_goals_div_cma', 'home_xg_div_cma', \n",
    "    'away_goals_div_cma', 'away_xg_div_cma'])]"
   ]
  },
  {
   "cell_type": "code",
   "execution_count": null,
   "metadata": {},
   "outputs": [],
   "source": [
    "# add the weekend_df Result column to the results_df\n",
    "results_df['results'] = model.predict(weekend_df[features])\n"
   ]
  },
  {
   "cell_type": "code",
   "execution_count": null,
   "metadata": {},
   "outputs": [],
   "source": []
  },
  {
   "cell_type": "code",
   "execution_count": null,
   "metadata": {},
   "outputs": [],
   "source": []
  },
  {
   "cell_type": "code",
   "execution_count": null,
   "metadata": {},
   "outputs": [],
   "source": [
    "model,df = load_modelanddata(mdodelfile, datafile)\n",
    "df = get_played_matches(df)"
   ]
  },
  {
   "cell_type": "code",
   "execution_count": null,
   "metadata": {},
   "outputs": [],
   "source": [
    "def prepare_data(df,date_column):\n",
    "    get_played_matches(df,date_column)\n",
    "    clean_column(df,column, 'int')\n",
    "\n",
    "    return df"
   ]
  }
 ],
 "metadata": {
  "kernelspec": {
   "display_name": "Python 3",
   "language": "python",
   "name": "python3"
  },
  "language_info": {
   "codemirror_mode": {
    "name": "ipython",
    "version": 3
   },
   "file_extension": ".py",
   "mimetype": "text/x-python",
   "name": "python",
   "nbconvert_exporter": "python",
   "pygments_lexer": "ipython3",
   "version": "3.12.4"
  },
  "orig_nbformat": 4,
  "vscode": {
   "interpreter": {
    "hash": "38cca0c38332a56087b24af0bc80247f4fced29cb4f7f437d91dc159adec9c4e"
   }
  }
 },
 "nbformat": 4,
 "nbformat_minor": 2
}
