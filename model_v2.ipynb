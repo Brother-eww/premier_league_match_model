{
 "cells": [
  {
   "cell_type": "code",
   "execution_count": 22,
   "metadata": {},
   "outputs": [],
   "source": [
    "import pandas as pd\n",
    "import numpy as np\n",
    "import os"
   ]
  },
  {
   "cell_type": "code",
   "execution_count": 23,
   "metadata": {},
   "outputs": [],
   "source": [
    "df = pd.read_csv('new_data.csv')"
   ]
  },
  {
   "cell_type": "code",
   "execution_count": 24,
   "metadata": {},
   "outputs": [],
   "source": [
    "# create a variable called current day\n",
    "current_day = pd.to_datetime('today').date()\n",
    "\n",
    "# convert 'Date' column to datetime\n",
    "df['Date'] = pd.to_datetime(df['Date']).dt.date\n",
    "\n",
    "# create a new df filter out the rows where the date is greater than the current day\n",
    "model_df = df[df['Date'] < current_day]"
   ]
  },
  {
   "cell_type": "code",
   "execution_count": 25,
   "metadata": {},
   "outputs": [
    {
     "name": "stderr",
     "output_type": "stream",
     "text": [
      "/var/folders/ky/0j3p160j7vl9mg1glj79h0q40000gn/T/ipykernel_67213/3374579801.py:1: SettingWithCopyWarning: \n",
      "A value is trying to be set on a copy of a slice from a DataFrame.\n",
      "Try using .loc[row_indexer,col_indexer] = value instead\n",
      "\n",
      "See the caveats in the documentation: https://pandas.pydata.org/pandas-docs/stable/user_guide/indexing.html#returning-a-view-versus-a-copy\n",
      "  model_df['Attendance'] = model_df['Attendance'].fillna(0) # setting null values to 0 because the NaN are from Covid-19 games with no attendance\n",
      "/var/folders/ky/0j3p160j7vl9mg1glj79h0q40000gn/T/ipykernel_67213/3374579801.py:3: SettingWithCopyWarning: \n",
      "A value is trying to be set on a copy of a slice from a DataFrame.\n",
      "Try using .loc[row_indexer,col_indexer] = value instead\n",
      "\n",
      "See the caveats in the documentation: https://pandas.pydata.org/pandas-docs/stable/user_guide/indexing.html#returning-a-view-versus-a-copy\n",
      "  model_df['Attendance'] = model_df['Attendance'].astype(int)\n"
     ]
    }
   ],
   "source": [
    "model_df['Attendance'] = model_df['Attendance'].fillna(0) # setting null values to 0 because the NaN are from Covid-19 games with no attendance\n",
    "\n",
    "model_df['Attendance'] = model_df['Attendance'].astype(int)"
   ]
  },
  {
   "cell_type": "code",
   "execution_count": 26,
   "metadata": {},
   "outputs": [],
   "source": [
    "# remove rows with NaN values\n",
    "model_df = model_df.dropna()"
   ]
  },
  {
   "cell_type": "code",
   "execution_count": 27,
   "metadata": {},
   "outputs": [],
   "source": [
    "model_df[['home_goals', 'away_goals']] = model_df['Score'].str.split('–', expand=True).astype(int)\n",
    "\n",
    "# rename xG and xG.1 columns to home_xG and away_xG\n",
    "model_df.rename(columns={'xG': 'home_xg', 'xG.1': 'away_xg'}, inplace=True)"
   ]
  },
  {
   "cell_type": "code",
   "execution_count": 28,
   "metadata": {},
   "outputs": [],
   "source": [
    "def get_result(row):\n",
    "    if row['home_goals'] > row['away_goals']:\n",
    "        return 'Home Win'\n",
    "    elif row['home_goals'] < row['away_goals']:\n",
    "        return 'Away Win'\n",
    "    else:\n",
    "        return 'Draw'\n",
    "    \n",
    "model_df['Result'] = model_df.apply(get_result, axis=1)"
   ]
  },
  {
   "cell_type": "code",
   "execution_count": 29,
   "metadata": {},
   "outputs": [],
   "source": [
    "model_df['Day'] = pd.to_datetime(model_df['Date']).dt.day_name()\n",
    "\n",
    "model_df['Season'] = model_df['Season'].apply(lambda x: x.split('-')[1])"
   ]
  },
  {
   "cell_type": "code",
   "execution_count": 30,
   "metadata": {},
   "outputs": [],
   "source": [
    "model_df.reset_index(drop=True, inplace=True)"
   ]
  },
  {
   "cell_type": "code",
   "execution_count": 31,
   "metadata": {},
   "outputs": [],
   "source": [
    "for x in model_df.Home.unique():\n",
    "    temp_df = model_df[(model_df['Home'] == x) | (model_df['Away'] == x)]\n",
    "    temp_df = temp_df.sort_values(['Date'])\n",
    "\n",
    "    temp_df['goal_value_to_calculate'] = temp_df.apply(lambda y: y['home_goals'] if y['Home'] == x else y['away_goals'], axis=1)\n",
    "    temp_df['rolling_avg_goals'] = temp_df['goal_value_to_calculate'].rolling(window = 5, closed = 'left', min_periods = 1).mean()\n",
    "\n",
    "    for index, row in temp_df.iterrows():\n",
    "        if row['Home'] == x:\n",
    "            model_df.at[index, 'home_rolling_avg_goals'] = row['rolling_avg_goals']\n",
    "        else:\n",
    "            model_df.at[index, 'away_rolling_avg_goals'] = row['rolling_avg_goals']"
   ]
  },
  {
   "cell_type": "code",
   "execution_count": 32,
   "metadata": {},
   "outputs": [],
   "source": [
    "for x in model_df.Home.unique():\n",
    "    temp_df = model_df[(model_df['Home'] == x) | (model_df['Away'] == x)]\n",
    "    temp_df = temp_df.sort_values(['Date'])\n",
    "\n",
    "    temp_df['xg_value_to_calculate'] = temp_df.apply(lambda y: y['home_xg'] if y['Home'] == x else y['away_xg'], axis=1)\n",
    "    temp_df['rolling_avg_xG'] = temp_df['xg_value_to_calculate'].rolling(window = 5, closed = 'left', min_periods = 1).mean()\n",
    "\n",
    "    for index, row in temp_df.iterrows():\n",
    "        if row['Home'] == x:\n",
    "            model_df.at[index, 'home_rolling_avg_xG'] = row['rolling_avg_xG']\n",
    "        else:\n",
    "            model_df.at[index, 'away_rolling_avg_xG'] = row['rolling_avg_xG']"
   ]
  },
  {
   "cell_type": "code",
   "execution_count": 33,
   "metadata": {},
   "outputs": [],
   "source": [
    "model_df = model_df.dropna(subset=['home_rolling_avg_goals', 'away_rolling_avg_goals', 'home_rolling_avg_xG', 'away_rolling_avg_xG'])"
   ]
  },
  {
   "cell_type": "code",
   "execution_count": 34,
   "metadata": {},
   "outputs": [],
   "source": [
    "# create a new column for the central moving average of the home goals\n",
    "model_df['home_goals_cma'] = model_df['home_goals'].expanding().mean()\n",
    "model_df['home_xg_cma'] = model_df['home_xg'].expanding().mean()\n",
    "\n",
    "# away goals\n",
    "model_df['away_goals_cma'] = model_df['away_goals'].expanding().mean()\n",
    "model_df['away_xg_cma'] = model_df['away_xg'].expanding().mean()\n",
    "\n",
    "# create a new column by dividing the home goals by central moving average\n",
    "model_df['home_goals_div_cma'] = model_df['home_goals'] / model_df['home_goals_cma']\n",
    "model_df['home_xg_div_cma'] = model_df['home_xg'] / model_df['home_xg_cma']\n",
    "\n",
    "# away goals\n",
    "model_df['away_goals_div_cma'] = model_df['away_goals'] / model_df['away_goals_cma']\n",
    "model_df['away_xg_div_cma'] = model_df['away_xg'] / model_df['away_xg_cma']"
   ]
  },
  {
   "cell_type": "code",
   "execution_count": 35,
   "metadata": {},
   "outputs": [],
   "source": [
    "# set Wk column to integer\n",
    "model_df['Wk'] = model_df['Wk'].astype(int)\n",
    "\n",
    "# create a new column called quarter. divide the season into 4 quarters using the Wk column and assign a value between 1 and 4\n",
    "model_df['quarter'] = np.where(model_df['Wk'].astype(int) <= 9, 1,\n",
    "                np.where(model_df['Wk'].astype(int) <= 18, 2,\n",
    "                np.where(model_df['Wk'].astype(int) <= 27, 3, 4)))\n",
    "\n",
    "# using home_goals_div_cma, take the mean of the column for each quarter. put into new column called home_goals_seasonality\n",
    "model_df['home_goals_seasonality'] = model_df.groupby('quarter')['home_goals_div_cma'].transform('mean')\n",
    "model_df['home_xg_seasonality'] = model_df.groupby('quarter')['home_xg_div_cma'].transform('mean')\n",
    "\n",
    "# away goals\n",
    "model_df['away_goals_seasonality'] = model_df.groupby('quarter')['away_goals_div_cma'].transform('mean')\n",
    "model_df['away_xg_seasonality'] = model_df.groupby('quarter')['away_xg_div_cma'].transform('mean')\n",
    "\n",
    "# create a new column called home_goals_deseasonalised by dividing home_goals by home_goals_seasonality\n",
    "model_df['home_goals_deseasonalised'] = model_df['home_goals'] / model_df['home_goals_seasonality']\n",
    "model_df['home_xg_deseasonalised'] = model_df['home_xg'] / model_df['home_xg_seasonality']\n",
    "\n",
    "# away goals\n",
    "model_df['away_goals_deseasonalised'] = model_df['away_goals'] / model_df['away_goals_seasonality']\n",
    "model_df['away_xg_deseasonalised'] = model_df['away_xg'] / model_df['away_xg_seasonality']"
   ]
  },
  {
   "cell_type": "code",
   "execution_count": 36,
   "metadata": {},
   "outputs": [],
   "source": [
    "model_df['Season'] = model_df['Season'].astype(int)\n",
    "# set home goals and away goals to integer\n",
    "model_df['home_goals'] = model_df['home_goals'].astype(int)\n",
    "model_df['away_goals'] = model_df['away_goals'].astype(int)"
   ]
  },
  {
   "cell_type": "code",
   "execution_count": 37,
   "metadata": {},
   "outputs": [],
   "source": [
    "# Ensure 'Result' is categorical or integer-based\n",
    "model_df['Result'] = model_df['Result'].astype('category')  # or use int depending on your encoding\n",
    "\n",
    "# Ensure 'home_goals' and 'away_goals' are integers\n",
    "model_df['home_goals'] = pd.to_numeric(model_df['home_goals'], errors='coerce').fillna(0).astype(int)\n",
    "model_df['away_goals'] = pd.to_numeric(model_df['away_goals'], errors='coerce').fillna(0).astype(int)"
   ]
  },
  {
   "cell_type": "code",
   "execution_count": 38,
   "metadata": {},
   "outputs": [],
   "source": [
    "# import packages for random forest\n",
    "from sklearn.ensemble import RandomForestClassifier\n",
    "from sklearn.multioutput import MultiOutputClassifier\n",
    "from sklearn.model_selection import train_test_split\n",
    "from sklearn.metrics import accuracy_score, confusion_matrix"
   ]
  },
  {
   "cell_type": "code",
   "execution_count": 41,
   "metadata": {},
   "outputs": [
    {
     "data": {
      "text/plain": [
       "['Wk',\n",
       " 'home_rolling_avg_goals',\n",
       " 'away_rolling_avg_goals',\n",
       " 'home_rolling_avg_xG',\n",
       " 'away_rolling_avg_xG',\n",
       " 'home_goals_seasonality',\n",
       " 'home_xg_seasonality',\n",
       " 'away_goals_seasonality',\n",
       " 'away_xg_seasonality',\n",
       " 'home_goals_deseasonalised',\n",
       " 'home_xg_deseasonalised',\n",
       " 'away_goals_deseasonalised',\n",
       " 'away_xg_deseasonalised']"
      ]
     },
     "execution_count": 41,
     "metadata": {},
     "output_type": "execute_result"
    }
   ],
   "source": [
    "features = [column for column in model_df.drop(columns=[\n",
    "    'Date', 'Day', 'Home', 'Away', 'Venue', 'Time', 'home_xg', 'away_xg', 'home_goals', 'Score', 'Referee', 'Attendance',\n",
    "    'away_goals', 'Result', 'Season', 'quarter', 'home_goals_cma', 'home_xg_cma', \n",
    "    'away_goals_cma', 'away_xg_cma', 'home_goals_div_cma', 'home_xg_div_cma', \n",
    "    'away_goals_div_cma', 'away_xg_div_cma'])]\n",
    "\n",
    "features"
   ]
  },
  {
   "cell_type": "code",
   "execution_count": 42,
   "metadata": {},
   "outputs": [
    {
     "data": {
      "text/plain": [
       "{'max_depth': 15, 'n_estimators': 100}"
      ]
     },
     "execution_count": 42,
     "metadata": {},
     "output_type": "execute_result"
    }
   ],
   "source": [
    "from sklearn.model_selection import GridSearchCV\n",
    "\n",
    "train_data = model_df[model_df['Season'] <= 2022]\n",
    "test_data = model_df[model_df['Season'] == 2023]\n",
    "\n",
    "X_train = train_data[features]\n",
    "y_train = train_data['Result']\n",
    "\n",
    "X_test = test_data[features]\n",
    "y_test = test_data['Result']\n",
    "\n",
    "param_grid = {\n",
    "    'n_estimators': [50, 100, 200],\n",
    "    'max_depth': [5, 10 , 15, 20]\n",
    "}\n",
    "clf = RandomForestClassifier(random_state=69, max_depth=5, n_estimators=50)\n",
    "grid_search = GridSearchCV(estimator=clf, param_grid=param_grid, cv=5)\n",
    "grid_search.fit(X_train, y_train)\n",
    "\n",
    "grid_search.best_params_"
   ]
  },
  {
   "cell_type": "code",
   "execution_count": 43,
   "metadata": {},
   "outputs": [
    {
     "name": "stdout",
     "output_type": "stream",
     "text": [
      "98.94% accuracy\n"
     ]
    }
   ],
   "source": [
    "clf = RandomForestClassifier(random_state=69, max_depth=15, n_estimators=100)\n",
    "clf.fit(X_train, y_train)\n",
    "\n",
    "predictions = clf.predict(X_test)\n",
    "\n",
    "print(f'{round((accuracy_score(y_test, predictions)*100), 2)}% accuracy')"
   ]
  },
  {
   "cell_type": "code",
   "execution_count": 44,
   "metadata": {},
   "outputs": [],
   "source": [
    "prediction_data = model_df[model_df['Season'] == 2024]\n",
    "\n",
    "X_test = prediction_data[features]\n",
    "y_test = prediction_data['Result']"
   ]
  },
  {
   "cell_type": "code",
   "execution_count": 45,
   "metadata": {},
   "outputs": [
    {
     "name": "stdout",
     "output_type": "stream",
     "text": [
      "98.15% accuracy\n"
     ]
    }
   ],
   "source": [
    "predictions = clf.predict(X_test)\n",
    "\n",
    "print(f'{round((accuracy_score(y_test, predictions)*100), 2)}% accuracy')"
   ]
  },
  {
   "cell_type": "code",
   "execution_count": 46,
   "metadata": {},
   "outputs": [
    {
     "data": {
      "image/png": "[encoded data removed]",
      "text/plain": [
       "<Figure size 1000x700 with 2 Axes>"
      ]
     },
     "metadata": {},
     "output_type": "display_data"
    }
   ],
   "source": [
    "# confusion matrix\n",
    "\n",
    "confusion_matrix(y_test, predictions)\n",
    "\n",
    "# importing the packages for the confusion matrix\n",
    "import matplotlib.pyplot as plt\n",
    "import seaborn as sns\n",
    "\n",
    "cm = confusion_matrix(y_test, predictions)\n",
    "\n",
    "plt.figure(figsize=(10, 7))\n",
    "sns.heatmap(cm, annot=True, fmt='g')\n",
    "plt.xlabel('Predicted')\n",
    "plt.ylabel('Actual')\n",
    "plt.xticks([0.5, 1.5, 2.5], ['Away Win', 'Draw', 'Home Win'])\n",
    "plt.yticks([0.5, 1.5, 2.5], ['Away Win', 'Draw', 'Home Win'])\n",
    "plt.show()"
   ]
  }
 ],
 "metadata": {
  "kernelspec": {
   "display_name": "Python 3",
   "language": "python",
   "name": "python3"
  },
  "language_info": {
   "codemirror_mode": {
    "name": "ipython",
    "version": 3
   },
   "file_extension": ".py",
   "mimetype": "text/x-python",
   "name": "python",
   "nbconvert_exporter": "python",
   "pygments_lexer": "ipython3",
   "version": "3.9.6"
  }
 },
 "nbformat": 4,
 "nbformat_minor": 2
}
